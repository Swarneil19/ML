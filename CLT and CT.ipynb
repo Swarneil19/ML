{
 "cells": [
  {
   "cell_type": "code",
   "execution_count": 13,
   "metadata": {},
   "outputs": [],
   "source": [
    "import pandas as pd\n",
    "import numpy as np"
   ]
  },
  {
   "cell_type": "code",
   "execution_count": 2,
   "metadata": {},
   "outputs": [],
   "source": [
    "from scipy import stats"
   ]
  },
  {
   "cell_type": "code",
   "execution_count": 5,
   "metadata": {},
   "outputs": [
    {
     "data": {
      "text/plain": [
       "0.14254260383881612"
      ]
     },
     "execution_count": 5,
     "metadata": {},
     "output_type": "execute_result"
    }
   ],
   "source": [
    "stats.norm.cdf(680, loc = 711, scale = 29)"
   ]
  },
  {
   "cell_type": "code",
   "execution_count": 6,
   "metadata": {},
   "outputs": [
    {
     "data": {
      "text/plain": [
       "0.8413447460685429"
      ]
     },
     "execution_count": 6,
     "metadata": {},
     "output_type": "execute_result"
    }
   ],
   "source": [
    "stats.norm.cdf(740, loc = 711, scale = 29)"
   ]
  },
  {
   "cell_type": "code",
   "execution_count": 7,
   "metadata": {},
   "outputs": [
    {
     "data": {
      "text/plain": [
       "0.31463356742704107"
      ]
     },
     "execution_count": 7,
     "metadata": {},
     "output_type": "execute_result"
    }
   ],
   "source": [
    "stats.norm.cdf(697, loc = 711, scale = 29)"
   ]
  },
  {
   "cell_type": "code",
   "execution_count": 8,
   "metadata": {},
   "outputs": [
    {
     "data": {
      "text/plain": [
       "0.5267000000000001"
      ]
     },
     "execution_count": 8,
     "metadata": {},
     "output_type": "execute_result"
    }
   ],
   "source": [
    "0.8413-0.3146"
   ]
  },
  {
   "cell_type": "code",
   "execution_count": 10,
   "metadata": {},
   "outputs": [
    {
     "data": {
      "text/html": [
       "<div>\n",
       "<style scoped>\n",
       "    .dataframe tbody tr th:only-of-type {\n",
       "        vertical-align: middle;\n",
       "    }\n",
       "\n",
       "    .dataframe tbody tr th {\n",
       "        vertical-align: top;\n",
       "    }\n",
       "\n",
       "    .dataframe thead th {\n",
       "        text-align: right;\n",
       "    }\n",
       "</style>\n",
       "<table border=\"1\" class=\"dataframe\">\n",
       "  <thead>\n",
       "    <tr style=\"text-align: right;\">\n",
       "      <th></th>\n",
       "      <th>Date</th>\n",
       "      <th>Open</th>\n",
       "      <th>High</th>\n",
       "      <th>Low</th>\n",
       "      <th>Last</th>\n",
       "      <th>Close</th>\n",
       "      <th>Total Trade Quantity</th>\n",
       "      <th>Turnover (Lacs)</th>\n",
       "    </tr>\n",
       "  </thead>\n",
       "  <tbody>\n",
       "    <tr>\n",
       "      <th>0</th>\n",
       "      <td>2010-01-04</td>\n",
       "      <td>1121.0</td>\n",
       "      <td>1151.00</td>\n",
       "      <td>1121.00</td>\n",
       "      <td>1134.0</td>\n",
       "      <td>1135.60</td>\n",
       "      <td>101651.0</td>\n",
       "      <td>1157.18</td>\n",
       "    </tr>\n",
       "    <tr>\n",
       "      <th>1</th>\n",
       "      <td>2010-01-05</td>\n",
       "      <td>1146.8</td>\n",
       "      <td>1149.00</td>\n",
       "      <td>1128.75</td>\n",
       "      <td>1135.0</td>\n",
       "      <td>1134.60</td>\n",
       "      <td>59504.0</td>\n",
       "      <td>676.47</td>\n",
       "    </tr>\n",
       "    <tr>\n",
       "      <th>2</th>\n",
       "      <td>2010-01-06</td>\n",
       "      <td>1140.0</td>\n",
       "      <td>1164.25</td>\n",
       "      <td>1130.05</td>\n",
       "      <td>1137.0</td>\n",
       "      <td>1139.60</td>\n",
       "      <td>128908.0</td>\n",
       "      <td>1482.84</td>\n",
       "    </tr>\n",
       "    <tr>\n",
       "      <th>3</th>\n",
       "      <td>2010-01-07</td>\n",
       "      <td>1142.0</td>\n",
       "      <td>1159.40</td>\n",
       "      <td>1119.20</td>\n",
       "      <td>1141.0</td>\n",
       "      <td>1144.15</td>\n",
       "      <td>117871.0</td>\n",
       "      <td>1352.98</td>\n",
       "    </tr>\n",
       "    <tr>\n",
       "      <th>4</th>\n",
       "      <td>2010-01-08</td>\n",
       "      <td>1156.0</td>\n",
       "      <td>1172.00</td>\n",
       "      <td>1140.00</td>\n",
       "      <td>1141.2</td>\n",
       "      <td>1144.05</td>\n",
       "      <td>170063.0</td>\n",
       "      <td>1971.42</td>\n",
       "    </tr>\n",
       "  </tbody>\n",
       "</table>\n",
       "</div>"
      ],
      "text/plain": [
       "         Date    Open     High      Low    Last    Close  \\\n",
       "0  2010-01-04  1121.0  1151.00  1121.00  1134.0  1135.60   \n",
       "1  2010-01-05  1146.8  1149.00  1128.75  1135.0  1134.60   \n",
       "2  2010-01-06  1140.0  1164.25  1130.05  1137.0  1139.60   \n",
       "3  2010-01-07  1142.0  1159.40  1119.20  1141.0  1144.15   \n",
       "4  2010-01-08  1156.0  1172.00  1140.00  1141.2  1144.05   \n",
       "\n",
       "   Total Trade Quantity  Turnover (Lacs)  \n",
       "0              101651.0          1157.18  \n",
       "1               59504.0           676.47  \n",
       "2              128908.0          1482.84  \n",
       "3              117871.0          1352.98  \n",
       "4              170063.0          1971.42  "
      ]
     },
     "execution_count": 10,
     "metadata": {},
     "output_type": "execute_result"
    }
   ],
   "source": [
    "beml_df = pd.read_csv('/Users/swarneil99/Desktop/BEML.csv')\n",
    "beml_df.head()"
   ]
  },
  {
   "cell_type": "code",
   "execution_count": 11,
   "metadata": {},
   "outputs": [],
   "source": [
    "glaxo_df = pd.read_csv('/Users/swarneil99/Desktop/GLAXO.csv')"
   ]
  },
  {
   "cell_type": "code",
   "execution_count": 12,
   "metadata": {},
   "outputs": [
    {
     "data": {
      "text/html": [
       "<div>\n",
       "<style scoped>\n",
       "    .dataframe tbody tr th:only-of-type {\n",
       "        vertical-align: middle;\n",
       "    }\n",
       "\n",
       "    .dataframe tbody tr th {\n",
       "        vertical-align: top;\n",
       "    }\n",
       "\n",
       "    .dataframe thead th {\n",
       "        text-align: right;\n",
       "    }\n",
       "</style>\n",
       "<table border=\"1\" class=\"dataframe\">\n",
       "  <thead>\n",
       "    <tr style=\"text-align: right;\">\n",
       "      <th></th>\n",
       "      <th>Date</th>\n",
       "      <th>Open</th>\n",
       "      <th>High</th>\n",
       "      <th>Low</th>\n",
       "      <th>Last</th>\n",
       "      <th>Close</th>\n",
       "      <th>Total Trade Quantity</th>\n",
       "      <th>Turnover (Lacs)</th>\n",
       "    </tr>\n",
       "  </thead>\n",
       "  <tbody>\n",
       "    <tr>\n",
       "      <th>0</th>\n",
       "      <td>2010-01-04</td>\n",
       "      <td>1613.00</td>\n",
       "      <td>1629.10</td>\n",
       "      <td>1602.00</td>\n",
       "      <td>1629.0</td>\n",
       "      <td>1625.65</td>\n",
       "      <td>9365.0</td>\n",
       "      <td>151.74</td>\n",
       "    </tr>\n",
       "    <tr>\n",
       "      <th>1</th>\n",
       "      <td>2010-01-05</td>\n",
       "      <td>1639.95</td>\n",
       "      <td>1639.95</td>\n",
       "      <td>1611.05</td>\n",
       "      <td>1620.0</td>\n",
       "      <td>1616.80</td>\n",
       "      <td>38148.0</td>\n",
       "      <td>622.58</td>\n",
       "    </tr>\n",
       "    <tr>\n",
       "      <th>2</th>\n",
       "      <td>2010-01-06</td>\n",
       "      <td>1618.00</td>\n",
       "      <td>1644.00</td>\n",
       "      <td>1617.00</td>\n",
       "      <td>1639.0</td>\n",
       "      <td>1638.50</td>\n",
       "      <td>36519.0</td>\n",
       "      <td>595.09</td>\n",
       "    </tr>\n",
       "    <tr>\n",
       "      <th>3</th>\n",
       "      <td>2010-01-07</td>\n",
       "      <td>1645.00</td>\n",
       "      <td>1654.00</td>\n",
       "      <td>1636.00</td>\n",
       "      <td>1648.0</td>\n",
       "      <td>1648.70</td>\n",
       "      <td>12809.0</td>\n",
       "      <td>211.00</td>\n",
       "    </tr>\n",
       "    <tr>\n",
       "      <th>4</th>\n",
       "      <td>2010-01-08</td>\n",
       "      <td>1650.00</td>\n",
       "      <td>1650.00</td>\n",
       "      <td>1626.55</td>\n",
       "      <td>1640.0</td>\n",
       "      <td>1639.80</td>\n",
       "      <td>28035.0</td>\n",
       "      <td>459.11</td>\n",
       "    </tr>\n",
       "  </tbody>\n",
       "</table>\n",
       "</div>"
      ],
      "text/plain": [
       "         Date     Open     High      Low    Last    Close  \\\n",
       "0  2010-01-04  1613.00  1629.10  1602.00  1629.0  1625.65   \n",
       "1  2010-01-05  1639.95  1639.95  1611.05  1620.0  1616.80   \n",
       "2  2010-01-06  1618.00  1644.00  1617.00  1639.0  1638.50   \n",
       "3  2010-01-07  1645.00  1654.00  1636.00  1648.0  1648.70   \n",
       "4  2010-01-08  1650.00  1650.00  1626.55  1640.0  1639.80   \n",
       "\n",
       "   Total Trade Quantity  Turnover (Lacs)  \n",
       "0                9365.0           151.74  \n",
       "1               38148.0           622.58  \n",
       "2               36519.0           595.09  \n",
       "3               12809.0           211.00  \n",
       "4               28035.0           459.11  "
      ]
     },
     "execution_count": 12,
     "metadata": {},
     "output_type": "execute_result"
    }
   ],
   "source": [
    "glaxo_df.head()"
   ]
  },
  {
   "cell_type": "code",
   "execution_count": 15,
   "metadata": {},
   "outputs": [],
   "source": [
    "beml_df1 = beml_df[['Date', 'Close']]\n",
    "glaxo_df1 = glaxo_df[['Date', 'Close']]"
   ]
  },
  {
   "cell_type": "code",
   "execution_count": 16,
   "metadata": {},
   "outputs": [
    {
     "data": {
      "text/html": [
       "<div>\n",
       "<style scoped>\n",
       "    .dataframe tbody tr th:only-of-type {\n",
       "        vertical-align: middle;\n",
       "    }\n",
       "\n",
       "    .dataframe tbody tr th {\n",
       "        vertical-align: top;\n",
       "    }\n",
       "\n",
       "    .dataframe thead th {\n",
       "        text-align: right;\n",
       "    }\n",
       "</style>\n",
       "<table border=\"1\" class=\"dataframe\">\n",
       "  <thead>\n",
       "    <tr style=\"text-align: right;\">\n",
       "      <th></th>\n",
       "      <th>Date</th>\n",
       "      <th>Close</th>\n",
       "    </tr>\n",
       "  </thead>\n",
       "  <tbody>\n",
       "    <tr>\n",
       "      <th>0</th>\n",
       "      <td>2010-01-04</td>\n",
       "      <td>1135.60</td>\n",
       "    </tr>\n",
       "    <tr>\n",
       "      <th>1</th>\n",
       "      <td>2010-01-05</td>\n",
       "      <td>1134.60</td>\n",
       "    </tr>\n",
       "    <tr>\n",
       "      <th>2</th>\n",
       "      <td>2010-01-06</td>\n",
       "      <td>1139.60</td>\n",
       "    </tr>\n",
       "    <tr>\n",
       "      <th>3</th>\n",
       "      <td>2010-01-07</td>\n",
       "      <td>1144.15</td>\n",
       "    </tr>\n",
       "    <tr>\n",
       "      <th>4</th>\n",
       "      <td>2010-01-08</td>\n",
       "      <td>1144.05</td>\n",
       "    </tr>\n",
       "    <tr>\n",
       "      <th>...</th>\n",
       "      <td>...</td>\n",
       "      <td>...</td>\n",
       "    </tr>\n",
       "    <tr>\n",
       "      <th>1734</th>\n",
       "      <td>2016-12-26</td>\n",
       "      <td>950.25</td>\n",
       "    </tr>\n",
       "    <tr>\n",
       "      <th>1735</th>\n",
       "      <td>2016-12-27</td>\n",
       "      <td>975.70</td>\n",
       "    </tr>\n",
       "    <tr>\n",
       "      <th>1736</th>\n",
       "      <td>2016-12-28</td>\n",
       "      <td>974.40</td>\n",
       "    </tr>\n",
       "    <tr>\n",
       "      <th>1737</th>\n",
       "      <td>2016-12-29</td>\n",
       "      <td>986.05</td>\n",
       "    </tr>\n",
       "    <tr>\n",
       "      <th>1738</th>\n",
       "      <td>2016-12-30</td>\n",
       "      <td>1000.60</td>\n",
       "    </tr>\n",
       "  </tbody>\n",
       "</table>\n",
       "<p>1739 rows × 2 columns</p>\n",
       "</div>"
      ],
      "text/plain": [
       "            Date    Close\n",
       "0     2010-01-04  1135.60\n",
       "1     2010-01-05  1134.60\n",
       "2     2010-01-06  1139.60\n",
       "3     2010-01-07  1144.15\n",
       "4     2010-01-08  1144.05\n",
       "...          ...      ...\n",
       "1734  2016-12-26   950.25\n",
       "1735  2016-12-27   975.70\n",
       "1736  2016-12-28   974.40\n",
       "1737  2016-12-29   986.05\n",
       "1738  2016-12-30  1000.60\n",
       "\n",
       "[1739 rows x 2 columns]"
      ]
     },
     "execution_count": 16,
     "metadata": {},
     "output_type": "execute_result"
    }
   ],
   "source": [
    "beml_df1"
   ]
  },
  {
   "cell_type": "code",
   "execution_count": 18,
   "metadata": {},
   "outputs": [],
   "source": [
    "glaxo_df = glaxo_df1.set_index(pd.DatetimeIndex(glaxo_df1['Date']))\n",
    "beml_df = beml_df1.set_index(pd.DatetimeIndex(beml_df1['Date']))"
   ]
  },
  {
   "cell_type": "code",
   "execution_count": 20,
   "metadata": {},
   "outputs": [
    {
     "data": {
      "text/html": [
       "<div>\n",
       "<style scoped>\n",
       "    .dataframe tbody tr th:only-of-type {\n",
       "        vertical-align: middle;\n",
       "    }\n",
       "\n",
       "    .dataframe tbody tr th {\n",
       "        vertical-align: top;\n",
       "    }\n",
       "\n",
       "    .dataframe thead th {\n",
       "        text-align: right;\n",
       "    }\n",
       "</style>\n",
       "<table border=\"1\" class=\"dataframe\">\n",
       "  <thead>\n",
       "    <tr style=\"text-align: right;\">\n",
       "      <th></th>\n",
       "      <th>Date</th>\n",
       "      <th>Close</th>\n",
       "    </tr>\n",
       "    <tr>\n",
       "      <th>Date</th>\n",
       "      <th></th>\n",
       "      <th></th>\n",
       "    </tr>\n",
       "  </thead>\n",
       "  <tbody>\n",
       "    <tr>\n",
       "      <th>2010-01-04</th>\n",
       "      <td>2010-01-04</td>\n",
       "      <td>1625.65</td>\n",
       "    </tr>\n",
       "    <tr>\n",
       "      <th>2010-01-05</th>\n",
       "      <td>2010-01-05</td>\n",
       "      <td>1616.80</td>\n",
       "    </tr>\n",
       "    <tr>\n",
       "      <th>2010-01-06</th>\n",
       "      <td>2010-01-06</td>\n",
       "      <td>1638.50</td>\n",
       "    </tr>\n",
       "    <tr>\n",
       "      <th>2010-01-07</th>\n",
       "      <td>2010-01-07</td>\n",
       "      <td>1648.70</td>\n",
       "    </tr>\n",
       "    <tr>\n",
       "      <th>2010-01-08</th>\n",
       "      <td>2010-01-08</td>\n",
       "      <td>1639.80</td>\n",
       "    </tr>\n",
       "    <tr>\n",
       "      <th>...</th>\n",
       "      <td>...</td>\n",
       "      <td>...</td>\n",
       "    </tr>\n",
       "    <tr>\n",
       "      <th>2016-12-26</th>\n",
       "      <td>2016-12-26</td>\n",
       "      <td>2723.50</td>\n",
       "    </tr>\n",
       "    <tr>\n",
       "      <th>2016-12-27</th>\n",
       "      <td>2016-12-27</td>\n",
       "      <td>2701.75</td>\n",
       "    </tr>\n",
       "    <tr>\n",
       "      <th>2016-12-28</th>\n",
       "      <td>2016-12-28</td>\n",
       "      <td>2702.15</td>\n",
       "    </tr>\n",
       "    <tr>\n",
       "      <th>2016-12-29</th>\n",
       "      <td>2016-12-29</td>\n",
       "      <td>2727.90</td>\n",
       "    </tr>\n",
       "    <tr>\n",
       "      <th>2016-12-30</th>\n",
       "      <td>2016-12-30</td>\n",
       "      <td>2729.80</td>\n",
       "    </tr>\n",
       "  </tbody>\n",
       "</table>\n",
       "<p>1739 rows × 2 columns</p>\n",
       "</div>"
      ],
      "text/plain": [
       "                  Date    Close\n",
       "Date                           \n",
       "2010-01-04  2010-01-04  1625.65\n",
       "2010-01-05  2010-01-05  1616.80\n",
       "2010-01-06  2010-01-06  1638.50\n",
       "2010-01-07  2010-01-07  1648.70\n",
       "2010-01-08  2010-01-08  1639.80\n",
       "...                ...      ...\n",
       "2016-12-26  2016-12-26  2723.50\n",
       "2016-12-27  2016-12-27  2701.75\n",
       "2016-12-28  2016-12-28  2702.15\n",
       "2016-12-29  2016-12-29  2727.90\n",
       "2016-12-30  2016-12-30  2729.80\n",
       "\n",
       "[1739 rows x 2 columns]"
      ]
     },
     "execution_count": 20,
     "metadata": {},
     "output_type": "execute_result"
    }
   ],
   "source": [
    "glaxo_df"
   ]
  },
  {
   "cell_type": "code",
   "execution_count": 19,
   "metadata": {},
   "outputs": [
    {
     "data": {
      "image/png": "[encoded data removed]",
      "text/plain": [
       "<Figure size 432x288 with 1 Axes>"
      ]
     },
     "metadata": {
      "needs_background": "light"
     },
     "output_type": "display_data"
    }
   ],
   "source": [
    "import matplotlib.pyplot as plt\n",
    "import seaborn as sns\n",
    "plt.plot(glaxo_df.Close);\n",
    "plt.xlabel('Time');\n",
    "plt.ylabel('Close Price');"
   ]
  },
  {
   "cell_type": "code",
   "execution_count": 21,
   "metadata": {},
   "outputs": [
    {
     "data": {
      "image/png": "[encoded data removed]",
      "text/plain": [
       "<Figure size 432x288 with 1 Axes>"
      ]
     },
     "metadata": {
      "needs_background": "light"
     },
     "output_type": "display_data"
    }
   ],
   "source": [
    "import matplotlib.pyplot as plt\n",
    "import seaborn as sns\n",
    "plt.plot(beml_df.Close);\n",
    "plt.xlabel('Time');\n",
    "plt.ylabel('Close Price');"
   ]
  },
  {
   "cell_type": "code",
   "execution_count": 22,
   "metadata": {},
   "outputs": [],
   "source": [
    "glaxo_df['gain'] = glaxo_df.Close.pct_change(periods = 1)\n",
    "beml_df['gain'] = beml_df.Close.pct_change(periods = 1)\n"
   ]
  },
  {
   "cell_type": "code",
   "execution_count": 23,
   "metadata": {},
   "outputs": [],
   "source": [
    "# Drop first row since it is NaN\n",
    "glaxo_df = glaxo_df.dropna()\n",
    "beml_df = beml_df.dropna()"
   ]
  },
  {
   "cell_type": "code",
   "execution_count": 24,
   "metadata": {},
   "outputs": [
    {
     "data": {
      "image/png": "[encoded data removed]",
      "text/plain": [
       "<Figure size 576x432 with 1 Axes>"
      ]
     },
     "metadata": {
      "needs_background": "light"
     },
     "output_type": "display_data"
    }
   ],
   "source": [
    "# Plotting the gains\n",
    "\n",
    "plt.figure(figsize = (8,6))\n",
    "plt.plot(glaxo_df.index, glaxo_df.gain);\n",
    "plt.xlabel('Time');\n",
    "plt.ylabel('gain');"
   ]
  },
  {
   "cell_type": "code",
   "execution_count": 26,
   "metadata": {},
   "outputs": [
    {
     "data": {
      "image/png": "[encoded data removed]",
      "text/plain": [
       "<Figure size 576x432 with 1 Axes>"
      ]
     },
     "metadata": {
      "needs_background": "light"
     },
     "output_type": "display_data"
    }
   ],
   "source": [
    "plt.figure(figsize = (8,6))\n",
    "plt.plot(beml_df.index, beml_df.gain);\n",
    "plt.xlabel('Time');\n",
    "plt.ylabel('gain');"
   ]
  },
  {
   "cell_type": "code",
   "execution_count": 27,
   "metadata": {},
   "outputs": [
    {
     "data": {
      "image/png": "[encoded data removed]",
      "text/plain": [
       "<Figure size 432x288 with 1 Axes>"
      ]
     },
     "metadata": {
      "needs_background": "light"
     },
     "output_type": "display_data"
    }
   ],
   "source": [
    "sns.distplot(glaxo_df.gain, label = 'Glaxo')\n",
    "plt.xlabel('gain')\n",
    "plt.ylabel('Density')\n",
    "plt.legend();"
   ]
  },
  {
   "cell_type": "code",
   "execution_count": 28,
   "metadata": {},
   "outputs": [
    {
     "data": {
      "image/png": "[encoded data removed]",
      "text/plain": [
       "<Figure size 432x288 with 1 Axes>"
      ]
     },
     "metadata": {
      "needs_background": "light"
     },
     "output_type": "display_data"
    }
   ],
   "source": [
    "sns.distplot(beml_df.gain, label = 'BEML')\n",
    "plt.xlabel('gain')\n",
    "plt.ylabel('Density')\n",
    "plt.legend();"
   ]
  },
  {
   "cell_type": "code",
   "execution_count": 29,
   "metadata": {},
   "outputs": [
    {
     "name": "stdout",
     "output_type": "stream",
     "text": [
      "Mean 0.0004\n",
      "Standard Deviation 0.0134\n"
     ]
    }
   ],
   "source": [
    "print('Mean', round(glaxo_df.gain.mean(), 4))\n",
    "print('Standard Deviation', round(glaxo_df.gain.std(),4))"
   ]
  },
  {
   "cell_type": "code",
   "execution_count": 30,
   "metadata": {},
   "outputs": [
    {
     "name": "stdout",
     "output_type": "stream",
     "text": [
      "Mean 0.0003\n",
      "Standard Deviation 0.0264\n"
     ]
    }
   ],
   "source": [
    "print('Mean', round(beml_df.gain.mean(), 4))\n",
    "print('Standard Deviation', round(beml_df.gain.std(),4))"
   ]
  },
  {
   "cell_type": "code",
   "execution_count": 31,
   "metadata": {},
   "outputs": [
    {
     "data": {
      "text/plain": [
       "0.06352488667177397"
      ]
     },
     "execution_count": 31,
     "metadata": {},
     "output_type": "execute_result"
    }
   ],
   "source": [
    "from scipy import stats\n",
    "# Probability of making 2% loss or higher in Glaxo\n",
    "\n",
    "stats.norm.cdf(-0.02,\n",
    "              loc = glaxo_df.gain.mean(),\n",
    "              scale = glaxo_df.gain.std())"
   ]
  },
  {
   "cell_type": "code",
   "execution_count": 33,
   "metadata": {},
   "outputs": [
    {
     "data": {
      "text/plain": [
       "0.07104511457618568"
      ]
     },
     "execution_count": 33,
     "metadata": {},
     "output_type": "execute_result"
    }
   ],
   "source": [
    "# Probability of making 2% gain or higher in Glaxo\n",
    "\n",
    "1 - stats.norm.cdf(0.02,\n",
    "              loc = glaxo_df.gain.mean(),\n",
    "              scale = glaxo_df.gain.std())"
   ]
  },
  {
   "cell_type": "code",
   "execution_count": 34,
   "metadata": {},
   "outputs": [
    {
     "data": {
      "text/plain": [
       "0.22155987503755292"
      ]
     },
     "execution_count": 34,
     "metadata": {},
     "output_type": "execute_result"
    }
   ],
   "source": [
    "# Probability of making 2% loss or higher in Beml\n",
    "\n",
    "stats.norm.cdf(-0.02,\n",
    "              loc = beml_df.gain.mean(),\n",
    "              scale = beml_df.gain.std())"
   ]
  },
  {
   "cell_type": "code",
   "execution_count": 35,
   "metadata": {},
   "outputs": [
    {
     "data": {
      "text/plain": [
       "0.22769829484075343"
      ]
     },
     "execution_count": 35,
     "metadata": {},
     "output_type": "execute_result"
    }
   ],
   "source": [
    "# Probability of making 2% gain or higher in Beml\n",
    "\n",
    "1 - stats.norm.cdf(0.02,\n",
    "              loc = beml_df.gain.mean(),\n",
    "              scale = beml_df.gain.std())"
   ]
  },
  {
   "cell_type": "code",
   "execution_count": 37,
   "metadata": {},
   "outputs": [
    {
     "data": {
      "text/plain": [
       "1.6448536269514722"
      ]
     },
     "execution_count": 37,
     "metadata": {},
     "output_type": "execute_result"
    }
   ],
   "source": [
    "stats.norm.ppf(0.95)"
   ]
  },
  {
   "cell_type": "code",
   "execution_count": 38,
   "metadata": {},
   "outputs": [
    {
     "data": {
      "text/plain": [
       "1642.42795"
      ]
     },
     "execution_count": 38,
     "metadata": {},
     "output_type": "execute_result"
    }
   ],
   "source": [
    "1990 - (1.645*211.29)"
   ]
  },
  {
   "cell_type": "code",
   "execution_count": 39,
   "metadata": {},
   "outputs": [
    {
     "data": {
      "text/plain": [
       "2337.5720499999998"
      ]
     },
     "execution_count": 39,
     "metadata": {},
     "output_type": "execute_result"
    }
   ],
   "source": [
    "1990 + (1.645*211.29)"
   ]
  },
  {
   "cell_type": "code",
   "execution_count": 40,
   "metadata": {},
   "outputs": [
    {
     "data": {
      "text/plain": [
       "1445.71696"
      ]
     },
     "execution_count": 40,
     "metadata": {},
     "output_type": "execute_result"
    }
   ],
   "source": [
    "1990 - (2.576*211.29)"
   ]
  },
  {
   "cell_type": "code",
   "execution_count": 41,
   "metadata": {},
   "outputs": [
    {
     "data": {
      "text/plain": [
       "2534.2830400000003"
      ]
     },
     "execution_count": 41,
     "metadata": {},
     "output_type": "execute_result"
    }
   ],
   "source": [
    "1990 + (2.576*211.29)"
   ]
  },
  {
   "cell_type": "code",
   "execution_count": 42,
   "metadata": {},
   "outputs": [
    {
     "data": {
      "text/plain": [
       "1.977177724476122"
      ]
     },
     "execution_count": 42,
     "metadata": {},
     "output_type": "execute_result"
    }
   ],
   "source": [
    "stats.t.ppf(0.975, df = 139)"
   ]
  },
  {
   "cell_type": "code",
   "execution_count": 46,
   "metadata": {},
   "outputs": [],
   "source": [
    "import math\n",
    "import numpy as np"
   ]
  },
  {
   "cell_type": "code",
   "execution_count": 47,
   "metadata": {},
   "outputs": [
    {
     "data": {
      "text/plain": [
       "239.43220036458874"
      ]
     },
     "execution_count": 47,
     "metadata": {},
     "output_type": "execute_result"
    }
   ],
   "source": [
    "2833/np.sqrt(140)"
   ]
  },
  {
   "cell_type": "code",
   "execution_count": 48,
   "metadata": {},
   "outputs": [
    {
     "data": {
      "text/plain": [
       "1515.9286"
      ]
     },
     "execution_count": 48,
     "metadata": {},
     "output_type": "execute_result"
    }
   ],
   "source": [
    "1990 - (1.98*239.43)"
   ]
  },
  {
   "cell_type": "code",
   "execution_count": 49,
   "metadata": {},
   "outputs": [
    {
     "data": {
      "text/plain": [
       "2.611661966001053"
      ]
     },
     "execution_count": 49,
     "metadata": {},
     "output_type": "execute_result"
    }
   ],
   "source": [
    "stats.t.ppf(0.995, df = 139)"
   ]
  },
  {
   "cell_type": "code",
   "execution_count": 61,
   "metadata": {},
   "outputs": [
    {
     "data": {
      "text/plain": [
       "1365.0877"
      ]
     },
     "execution_count": 61,
     "metadata": {},
     "output_type": "execute_result"
    }
   ],
   "source": [
    "# 99\n",
    "1990 - (2.61*239.43)"
   ]
  },
  {
   "cell_type": "code",
   "execution_count": 62,
   "metadata": {},
   "outputs": [
    {
     "data": {
      "text/plain": [
       "2614.9123"
      ]
     },
     "execution_count": 62,
     "metadata": {},
     "output_type": "execute_result"
    }
   ],
   "source": [
    "1990 + (2.61*239.43)"
   ]
  },
  {
   "cell_type": "code",
   "execution_count": 52,
   "metadata": {},
   "outputs": [
    {
     "data": {
      "text/plain": [
       "1.6558898677725957"
      ]
     },
     "execution_count": 52,
     "metadata": {},
     "output_type": "execute_result"
    }
   ],
   "source": [
    "#90 \n",
    "stats.t.ppf(0.95, df = 139)"
   ]
  },
  {
   "cell_type": "code",
   "execution_count": 53,
   "metadata": {},
   "outputs": [
    {
     "data": {
      "text/plain": [
       "1594.9405"
      ]
     },
     "execution_count": 53,
     "metadata": {},
     "output_type": "execute_result"
    }
   ],
   "source": [
    "1990 - (1.65*239.43)"
   ]
  },
  {
   "cell_type": "code",
   "execution_count": 54,
   "metadata": {},
   "outputs": [
    {
     "data": {
      "text/plain": [
       "2385.0595"
      ]
     },
     "execution_count": 54,
     "metadata": {},
     "output_type": "execute_result"
    }
   ],
   "source": [
    "1990 + (1.65*239.43)"
   ]
  },
  {
   "cell_type": "code",
   "execution_count": 63,
   "metadata": {},
   "outputs": [
    {
     "data": {
      "text/plain": [
       "1.2876717475181299"
      ]
     },
     "execution_count": 63,
     "metadata": {},
     "output_type": "execute_result"
    }
   ],
   "source": [
    "# 80\n",
    "stats.t.ppf(0.9, df = 139)"
   ]
  },
  {
   "cell_type": "code",
   "execution_count": 56,
   "metadata": {},
   "outputs": [
    {
     "data": {
      "text/plain": [
       "1779.3016"
      ]
     },
     "execution_count": 56,
     "metadata": {},
     "output_type": "execute_result"
    }
   ],
   "source": [
    "1990 - (0.88*239.43)"
   ]
  },
  {
   "cell_type": "code",
   "execution_count": 57,
   "metadata": {},
   "outputs": [
    {
     "data": {
      "text/plain": [
       "2200.6984"
      ]
     },
     "execution_count": 57,
     "metadata": {},
     "output_type": "execute_result"
    }
   ],
   "source": [
    "1990 + (0.88*239.43)"
   ]
  },
  {
   "cell_type": "code",
   "execution_count": 58,
   "metadata": {},
   "outputs": [
    {
     "data": {
      "text/plain": [
       "1.447530695200718"
      ]
     },
     "execution_count": 58,
     "metadata": {},
     "output_type": "execute_result"
    }
   ],
   "source": [
    "# 85\n",
    "stats.t.ppf(0.925, df = 139)"
   ]
  },
  {
   "cell_type": "code",
   "execution_count": 59,
   "metadata": {},
   "outputs": [
    {
     "data": {
      "text/plain": [
       "1645.2208"
      ]
     },
     "execution_count": 59,
     "metadata": {},
     "output_type": "execute_result"
    }
   ],
   "source": [
    "1990 - (1.44*239.43)"
   ]
  },
  {
   "cell_type": "code",
   "execution_count": 60,
   "metadata": {},
   "outputs": [
    {
     "data": {
      "text/plain": [
       "2334.7792"
      ]
     },
     "execution_count": 60,
     "metadata": {},
     "output_type": "execute_result"
    }
   ],
   "source": [
    "1990 + (1.44*239.43)"
   ]
  },
  {
   "cell_type": "code",
   "execution_count": 64,
   "metadata": {},
   "outputs": [
    {
     "data": {
      "text/html": [
       "<div>\n",
       "<style scoped>\n",
       "    .dataframe tbody tr th:only-of-type {\n",
       "        vertical-align: middle;\n",
       "    }\n",
       "\n",
       "    .dataframe tbody tr th {\n",
       "        vertical-align: top;\n",
       "    }\n",
       "\n",
       "    .dataframe thead th {\n",
       "        text-align: right;\n",
       "    }\n",
       "</style>\n",
       "<table border=\"1\" class=\"dataframe\">\n",
       "  <thead>\n",
       "    <tr style=\"text-align: right;\">\n",
       "      <th></th>\n",
       "      <th>Date</th>\n",
       "      <th>Close</th>\n",
       "      <th>gain</th>\n",
       "    </tr>\n",
       "    <tr>\n",
       "      <th>Date</th>\n",
       "      <th></th>\n",
       "      <th></th>\n",
       "      <th></th>\n",
       "    </tr>\n",
       "  </thead>\n",
       "  <tbody>\n",
       "    <tr>\n",
       "      <th>2010-01-05</th>\n",
       "      <td>2010-01-05</td>\n",
       "      <td>1616.80</td>\n",
       "      <td>-0.005444</td>\n",
       "    </tr>\n",
       "    <tr>\n",
       "      <th>2010-01-06</th>\n",
       "      <td>2010-01-06</td>\n",
       "      <td>1638.50</td>\n",
       "      <td>0.013422</td>\n",
       "    </tr>\n",
       "    <tr>\n",
       "      <th>2010-01-07</th>\n",
       "      <td>2010-01-07</td>\n",
       "      <td>1648.70</td>\n",
       "      <td>0.006225</td>\n",
       "    </tr>\n",
       "    <tr>\n",
       "      <th>2010-01-08</th>\n",
       "      <td>2010-01-08</td>\n",
       "      <td>1639.80</td>\n",
       "      <td>-0.005398</td>\n",
       "    </tr>\n",
       "    <tr>\n",
       "      <th>2010-01-11</th>\n",
       "      <td>2010-01-11</td>\n",
       "      <td>1629.45</td>\n",
       "      <td>-0.006312</td>\n",
       "    </tr>\n",
       "  </tbody>\n",
       "</table>\n",
       "</div>"
      ],
      "text/plain": [
       "                  Date    Close      gain\n",
       "Date                                     \n",
       "2010-01-05  2010-01-05  1616.80 -0.005444\n",
       "2010-01-06  2010-01-06  1638.50  0.013422\n",
       "2010-01-07  2010-01-07  1648.70  0.006225\n",
       "2010-01-08  2010-01-08  1639.80 -0.005398\n",
       "2010-01-11  2010-01-11  1629.45 -0.006312"
      ]
     },
     "execution_count": 64,
     "metadata": {},
     "output_type": "execute_result"
    }
   ],
   "source": [
    "glaxo_df.head()"
   ]
  },
  {
   "cell_type": "code",
   "execution_count": 65,
   "metadata": {},
   "outputs": [
    {
     "name": "stdout",
     "output_type": "stream",
     "text": [
      "95 % confidence interval is  [-0.0258  0.0266]\n"
     ]
    }
   ],
   "source": [
    "glaxo_df_ci = stats.norm.interval(0.95,\n",
    "                                 loc = glaxo_df.gain.mean(),\n",
    "                                 scale = glaxo_df.gain.std())\n",
    "print('95 % confidence interval is ', np.round(glaxo_df_ci, 4))"
   ]
  },
  {
   "cell_type": "code",
   "execution_count": 66,
   "metadata": {},
   "outputs": [
    {
     "name": "stdout",
     "output_type": "stream",
     "text": [
      "95 % confidence interval is  [-0.0515  0.0521]\n"
     ]
    }
   ],
   "source": [
    "beml_df_ci = stats.norm.interval(0.95,\n",
    "                                 loc = beml_df.gain.mean(),\n",
    "                                 scale = beml_df.gain.std())\n",
    "print('95 % confidence interval is ', np.round(beml_df_ci, 4))"
   ]
  },
  {
   "cell_type": "code",
   "execution_count": 67,
   "metadata": {},
   "outputs": [
    {
     "name": "stdout",
     "output_type": "stream",
     "text": [
      "99 % confidence interval is  [-0.034   0.0348]\n"
     ]
    }
   ],
   "source": [
    "glaxo_df_ci = stats.norm.interval(0.99,\n",
    "                                 loc = glaxo_df.gain.mean(),\n",
    "                                 scale = glaxo_df.gain.std())\n",
    "print('99 % confidence interval is ', np.round(glaxo_df_ci, 4))"
   ]
  },
  {
   "cell_type": "code",
   "execution_count": 70,
   "metadata": {},
   "outputs": [
    {
     "name": "stdout",
     "output_type": "stream",
     "text": [
      "99 % confidence interval is  [-0.0678  0.0684]\n"
     ]
    }
   ],
   "source": [
    "beml_df_ci = stats.norm.interval(0.99,\n",
    "                                 loc = beml_df.gain.mean(),\n",
    "                                 scale = beml_df.gain.std())\n",
    "print('99 % confidence interval is ', np.round(beml_df_ci, 4))"
   ]
  },
  {
   "cell_type": "code",
   "execution_count": 71,
   "metadata": {},
   "outputs": [
    {
     "name": "stdout",
     "output_type": "stream",
     "text": [
      "80 % confidence interval is  [-0.0167  0.0175]\n"
     ]
    }
   ],
   "source": [
    "glaxo_df_ci = stats.norm.interval(0.80,\n",
    "                                 loc = glaxo_df.gain.mean(),\n",
    "                                 scale = glaxo_df.gain.std())\n",
    "print('80 % confidence interval is ', np.round(glaxo_df_ci, 4))"
   ]
  },
  {
   "cell_type": "code",
   "execution_count": 72,
   "metadata": {},
   "outputs": [
    {
     "name": "stdout",
     "output_type": "stream",
     "text": [
      "80 % confidence interval is  [-0.0336  0.0341]\n"
     ]
    }
   ],
   "source": [
    "beml_df_ci = stats.norm.interval(0.80,\n",
    "                                 loc = beml_df.gain.mean(),\n",
    "                                 scale = beml_df.gain.std())\n",
    "print('80 % confidence interval is ', np.round(beml_df_ci, 4))"
   ]
  },
  {
   "cell_type": "code",
   "execution_count": 73,
   "metadata": {},
   "outputs": [
    {
     "name": "stdout",
     "output_type": "stream",
     "text": [
      "85 % confidence interval is  [-0.0188  0.0196]\n"
     ]
    }
   ],
   "source": [
    "glaxo_df_ci = stats.norm.interval(0.85,\n",
    "                                 loc = glaxo_df.gain.mean(),\n",
    "                                 scale = glaxo_df.gain.std())\n",
    "print('85 % confidence interval is ', np.round(glaxo_df_ci, 4))"
   ]
  },
  {
   "cell_type": "code",
   "execution_count": 74,
   "metadata": {},
   "outputs": [
    {
     "name": "stdout",
     "output_type": "stream",
     "text": [
      "85 % confidence interval is  [-0.0378  0.0383]\n"
     ]
    }
   ],
   "source": [
    "beml_df_ci = stats.norm.interval(0.85,\n",
    "                                 loc = beml_df.gain.mean(),\n",
    "                                 scale = beml_df.gain.std())\n",
    "print('85 % confidence interval is ', np.round(beml_df_ci, 4))"
   ]
  },
  {
   "cell_type": "code",
   "execution_count": 75,
   "metadata": {},
   "outputs": [
    {
     "data": {
      "text/plain": [
       "0.9857070911974259"
      ]
     },
     "execution_count": 75,
     "metadata": {},
     "output_type": "execute_result"
    }
   ],
   "source": [
    "stats.t.cdf(2.23, df = 79)"
   ]
  },
  {
   "cell_type": "code",
   "execution_count": 79,
   "metadata": {},
   "outputs": [
    {
     "data": {
      "text/plain": [
       "0.827495218957933"
      ]
     },
     "execution_count": 79,
     "metadata": {},
     "output_type": "execute_result"
    }
   ],
   "source": [
    "stats.t.cdf(0.95, df = 79)"
   ]
  },
  {
   "cell_type": "code",
   "execution_count": null,
   "metadata": {},
   "outputs": [],
   "source": []
  }
 ],
 "metadata": {
  "kernelspec": {
   "display_name": "Python 3",
   "language": "python",
   "name": "python3"
  },
  "language_info": {
   "codemirror_mode": {
    "name": "ipython",
    "version": 3
   },
   "file_extension": ".py",
   "mimetype": "text/x-python",
   "name": "python",
   "nbconvert_exporter": "python",
   "pygments_lexer": "ipython3",
   "version": "3.7.6"
  }
 },
 "nbformat": 4,
 "nbformat_minor": 4
}
