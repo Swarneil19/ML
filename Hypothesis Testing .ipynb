{
 "cells": [
  {
   "cell_type": "markdown",
   "metadata": {},
   "source": [
    "# One sample and One tail t-test\n",
    "\n",
    "Ex - An outbreak of Salmonella-related illness was attributed to icecream produced at a certain factory. Scientists measured the level of Salmonella in 9 randomly sampled batches of icecream. The levels (in MPN/g) were \n",
    "\n",
    "0.593, 0.142, 0.329, 0.691, 0.231, 0.793, 0.519, 0.392, 0.418\n",
    "\n",
    "Is there evidence that the mean level of Salmonella in the icecream is greater than 0.3 MPN/g? \n",
    "\n",
    "Here, \n",
    "    H0 <= 0.3 (no change needed to be taken) \n",
    "        Ha > 0.3 (Action needed) \n",
    "        "
   ]
  },
  {
   "cell_type": "code",
   "execution_count": 5,
   "metadata": {},
   "outputs": [],
   "source": [
    "import numpy as np\n",
    "import pandas as pd \n",
    "from scipy import stats\n"
   ]
  },
  {
   "cell_type": "code",
   "execution_count": 6,
   "metadata": {},
   "outputs": [],
   "source": [
    "data = pd.Series([0.593, 0.142, 0.329, 0.691, 0.231, 0.793, 0.519, 0.392, 0.418])"
   ]
  },
  {
   "cell_type": "code",
   "execution_count": 12,
   "metadata": {},
   "outputs": [
    {
     "data": {
      "text/plain": [
       "Ttest_1sampResult(statistic=2.2050588385131595, pvalue=0.05853032968489765)"
      ]
     },
     "execution_count": 12,
     "metadata": {},
     "output_type": "execute_result"
    }
   ],
   "source": [
    "scipy.stats.ttest_1samp(data, 0.3)"
   ]
  },
  {
   "cell_type": "code",
   "execution_count": 10,
   "metadata": {},
   "outputs": [
    {
     "data": {
      "text/plain": [
       "0.029265164842448826"
      ]
     },
     "execution_count": 10,
     "metadata": {},
     "output_type": "execute_result"
    }
   ],
   "source": [
    "# This gives two tail test p-value so divide by 2 to get final p-value\n",
    "\n",
    "p = scipy.stats.ttest_1samp(data, 0.3)[1] #[1] is given to access the p value of the above list as mentioned in ln 12\n",
    "p_value = p/2\n",
    "p_value"
   ]
  },
  {
   "cell_type": "markdown",
   "metadata": {},
   "source": [
    "# Two-sample t-tests \n",
    "\n",
    "Ex- 6 subjects were given a drug (treatment group) and an additional 6 subjects a placebo (control group). Their reaction time to stimulus was measured (in ms). We want to perform a two-sample t-test for comparing the means of the treatment and control groups \n",
    "\n",
    "Control - 91, 87, 99, 77, 88, 91\n",
    "Treat - 101, 110, 103, 93, 99, 104\n",
    "\n",
    "Here, \n",
    "\n",
    "    H0 => uc = ut\n",
    "    Ha => uc != ut"
   ]
  },
  {
   "cell_type": "code",
   "execution_count": 13,
   "metadata": {},
   "outputs": [],
   "source": [
    "control = pd.Series([91, 87, 99, 77, 88, 91])\n",
    "treat = pd.Series([101, 110, 103, 93, 99, 104])"
   ]
  },
  {
   "cell_type": "code",
   "execution_count": null,
   "metadata": {},
   "outputs": [],
   "source": [
    "stats.ttest.ind(control, treat)"
   ]
  }
 ],
 "metadata": {
  "kernelspec": {
   "display_name": "Python 3",
   "language": "python",
   "name": "python3"
  },
  "language_info": {
   "codemirror_mode": {
    "name": "ipython",
    "version": 3
   },
   "file_extension": ".py",
   "mimetype": "text/x-python",
   "name": "python",
   "nbconvert_exporter": "python",
   "pygments_lexer": "ipython3",
   "version": "3.7.6"
  }
 },
 "nbformat": 4,
 "nbformat_minor": 4
}
